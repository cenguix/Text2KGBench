{
 "cells": [
  {
   "cell_type": "code",
   "execution_count": 16,
   "id": "945e6535-5b8a-4d25-a480-e26fae8a09b3",
   "metadata": {
    "tags": []
   },
   "outputs": [],
   "source": [
    "import requests\n",
    "import json\n",
    "\n",
    "from typing import TypeVar, List, Tuple"
   ]
  },
  {
   "cell_type": "code",
   "execution_count": 34,
   "id": "da6756d7-13de-45b1-8f14-90b768678168",
   "metadata": {
    "tags": []
   },
   "outputs": [],
   "source": [
    "host = \"\"\n",
    "port = 8000\n",
    "completion_url = f\"http://{host}:{port}/v1/chat/completions\""
   ]
  },
  {
   "cell_type": "code",
   "execution_count": 39,
   "id": "6ac55ab6-b512-42d6-a6bb-3a4ff9a67271",
   "metadata": {
    "tags": []
   },
   "outputs": [],
   "source": [
    "Triple = TypeVar('Triple', bound=Tuple[str, str, str])\n",
    "\n",
    "\n",
    "def prepare_prompt(ontology_path: str, test_sentence: str, example_sentences: List[str]) -> str:\n",
    "    ## TODO generate the prompt\n",
    "    prompt = \"\"\n",
    "    return prompt\n",
    "\n",
    "def get_llm_response(prompt: str) -> str:\n",
    "    data = { \"model\": \"vicuna-13b\", \"messages\": [{\"role\": \"user\", \"content\": prompt}] }\n",
    "    headers = {'Content-Type': 'application/json'}\n",
    "    response = requests.post(url=completion_url, headers=headers, data=json.dumps(data))\n",
    "    return response.json()['choices'][0]['message']['content']\n",
    "\n",
    "def parse_llm_response(response: str) -> List[Triple]:\n",
    "    # TODO return triples in the form of \"subject, relation, object\"\n",
    "    pass\n",
    "\n",
    "def find_similar_examples(test_sentence: str, train_sentences: List[str]) -> List[str]:\n",
    "    pass"
   ]
  },
  {
   "cell_type": "code",
   "execution_count": 36,
   "id": "9fabab83-3b17-4449-b0c7-4b40a84da005",
   "metadata": {
    "tags": []
   },
   "outputs": [],
   "source": [
    "prompt_example = 'Given the following ontology and sentences, please extract the triples from the sentence according to' \\\n",
    "         'the relations in the ontology. In the output, only include the triples in the given output format.\\n' \\\n",
    "         'CONTEXT:  \\nOntology Concepts: film, film genre, film production company, film award, city, human\\n' \\\n",
    "         'Ontology relations: director(film, human), genre(film, film genre), cast member(film, human)\\nSentence: ' \\\n",
    "         'Visions of Light is a 1992 documentary film directed by Arnold Glassman, Todd McCarthy and Stuart Samuels. \\n' \\\n",
    "         'Output format: relation (subject, object).\\n'"
   ]
  },
  {
   "cell_type": "code",
   "execution_count": 40,
   "id": "4330ff29-7e93-400b-87a1-be18e83f0fba",
   "metadata": {
    "tags": []
   },
   "outputs": [],
   "source": [
    "response = get_llm_response(prompt_example)"
   ]
  },
  {
   "cell_type": "code",
   "execution_count": 41,
   "id": "2affabb4-3dc4-44cc-8dcb-a2ae1d26e324",
   "metadata": {
    "tags": []
   },
   "outputs": [
    {
     "name": "stdout",
     "output_type": "stream",
     "text": [
      "director(Visions of Light, Arnold Glassman), director(Visions of Light, Todd McCarthy), director(Visions of Light, Stuart Samuels)\n",
      "genre(Visions of Light, documentary)\n",
      "cast member(Visions of Light, Arnold Glassman), cast member(Visions of Light, Todd McCarthy), cast member(Visions of Light, Stuart Samuels)\n"
     ]
    }
   ],
   "source": [
    "print(response)"
   ]
  },
  {
   "cell_type": "code",
   "execution_count": null,
   "id": "f540d2dd-ff72-47a4-8259-4df3c8492a62",
   "metadata": {},
   "outputs": [],
   "source": []
  }
 ],
 "metadata": {
  "kernelspec": {
   "display_name": "Python 3 (ipykernel)",
   "language": "python",
   "name": "python3"
  },
  "language_info": {
   "codemirror_mode": {
    "name": "ipython",
    "version": 3
   },
   "file_extension": ".py",
   "mimetype": "text/x-python",
   "name": "python",
   "nbconvert_exporter": "python",
   "pygments_lexer": "ipython3",
   "version": "3.10.9"
  }
 },
 "nbformat": 4,
 "nbformat_minor": 5
}
