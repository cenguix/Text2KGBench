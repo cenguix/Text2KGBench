{
 "cells": [
  {
   "cell_type": "code",
   "execution_count": 45,
   "id": "945e6535-5b8a-4d25-a480-e26fae8a09b3",
   "metadata": {
    "tags": []
   },
   "outputs": [],
   "source": [
    "import requests\n",
    "import json\n",
    "\n",
    "from typing import TypeVar, List, Tuple, Dict"
   ]
  },
  {
   "cell_type": "code",
   "execution_count": 34,
   "id": "da6756d7-13de-45b1-8f14-90b768678168",
   "metadata": {
    "tags": []
   },
   "outputs": [],
   "source": [
    "host = \"\"\n",
    "port = 8000\n",
    "completion_url = f\"http://{host}:{port}/v1/chat/completions\""
   ]
  },
  {
   "cell_type": "markdown",
   "id": "7a8e6a60-11bc-4e53-a1e5-42a5418d16c7",
   "metadata": {},
   "source": [
    "# Method definitions"
   ]
  },
  {
   "cell_type": "code",
   "execution_count": 46,
   "id": "6ac55ab6-b512-42d6-a6bb-3a4ff9a67271",
   "metadata": {
    "tags": []
   },
   "outputs": [],
   "source": [
    "Triple = TypeVar('Triple', bound=Tuple[str, str, str])\n",
    "\n",
    "\n",
    "def prepare_prompt(ontology: Dict, test_sentence: str, example_sentences: List[str]) -> str:\n",
    "    ## TODO generate the prompt\n",
    "    prompt = \"\"\n",
    "    return prompt\n",
    "\n",
    "def get_llm_response(prompt: str) -> str:\n",
    "    data = { \"model\": \"vicuna-13b\", \"messages\": [{\"role\": \"user\", \"content\": prompt}] }\n",
    "    headers = {'Content-Type': 'application/json'}\n",
    "    response = requests.post(url=completion_url, headers=headers, data=json.dumps(data))\n",
    "    return response.json()['choices'][0]['message']['content']\n",
    "\n",
    "def parse_llm_response(response: str) -> List[Triple]:\n",
    "    # TODO return triples in the form of \"subject, relation, object\"\n",
    "    pass\n",
    "\n",
    "def find_similar_examples(test_sentence: str, train_sentences: List[str]) -> List[str]:\n",
    "    pass"
   ]
  },
  {
   "cell_type": "markdown",
   "id": "3995ab8c-aeff-4e82-8baa-b24fde01fd7e",
   "metadata": {},
   "source": [
    "# Prompot generation"
   ]
  },
  {
   "cell_type": "code",
   "execution_count": 43,
   "id": "4e39d1f5-bd0f-47e2-ade3-cb0b67b6fc2c",
   "metadata": {
    "tags": []
   },
   "outputs": [],
   "source": [
    "input_data = {\n",
    "    \"onto_1_movie\": {\n",
    "        \"ontology\": \"ontology/1_movie_ontology.json\",\n",
    "        \"test_file\": \"data/ont_1_movie/ont_1_movie_test.jsonl\",\n",
    "        \"train_file\": \"data/ont_1_movie/ont_1_movie_train.jsonl\",\n",
    "        \"similarity_file\": \"baselines/sbert_example_similarity/ont_1_movie_test_train_similarity.json\" \n",
    "    },\n",
    "    \"onto_2_music\": {\n",
    "        \"ontology\": \"ontology/2_music_ontology.json\",\n",
    "        \"test_file\": \"data/ont_2_music/ont_2_music_test.jsonl\",\n",
    "        \"train_file\": \"data/ont_2_music/ont_2_music_train.jsonl\",\n",
    "        \"similarity_file\": \"baselines/sbert_example_similarity/ont_2_music_test_train_similarity.json\" \n",
    "    }\n",
    "}"
   ]
  },
  {
   "cell_type": "code",
   "execution_count": 47,
   "id": "c1cc38b1-af8a-457f-8157-3f34d210d94b",
   "metadata": {
    "tags": []
   },
   "outputs": [],
   "source": [
    "# for onto in input_data\n",
    "\n",
    "# load ontology, train, test, similariy files\n",
    "\n",
    "# for each test file, get the most similar or n similar examples \n",
    "\n",
    "# generate prompts \n",
    "#prepare_prompt(ontology, test_sentence, example_sentences)\n",
    "\n",
    "# save the prompts to a file\n",
    "# {\"onto_id\"=\"\", \"sentence_id\": \"\", \"prompt\": \"\")\n"
   ]
  },
  {
   "cell_type": "markdown",
   "id": "6e43a9ba-0055-4440-a41a-9828d80686c7",
   "metadata": {},
   "source": [
    "# Generating LLM responses"
   ]
  },
  {
   "cell_type": "code",
   "execution_count": 36,
   "id": "9fabab83-3b17-4449-b0c7-4b40a84da005",
   "metadata": {
    "tags": []
   },
   "outputs": [],
   "source": [
    "prompt_example = 'Given the following ontology and sentences, please extract the triples from the sentence according to' \\\n",
    "         'the relations in the ontology. In the output, only include the triples in the given output format.\\n' \\\n",
    "         'CONTEXT:  \\nOntology Concepts: film, film genre, film production company, film award, city, human\\n' \\\n",
    "         'Ontology relations: director(film, human), genre(film, film genre), cast member(film, human)\\nSentence: ' \\\n",
    "         'Visions of Light is a 1992 documentary film directed by Arnold Glassman, Todd McCarthy and Stuart Samuels. \\n' \\\n",
    "         'Output format: relation (subject, object).\\n'"
   ]
  },
  {
   "cell_type": "code",
   "execution_count": 40,
   "id": "4330ff29-7e93-400b-87a1-be18e83f0fba",
   "metadata": {
    "tags": []
   },
   "outputs": [],
   "source": [
    "response = get_llm_response(prompt_example)"
   ]
  },
  {
   "cell_type": "code",
   "execution_count": 41,
   "id": "2affabb4-3dc4-44cc-8dcb-a2ae1d26e324",
   "metadata": {
    "tags": []
   },
   "outputs": [
    {
     "name": "stdout",
     "output_type": "stream",
     "text": [
      "director(Visions of Light, Arnold Glassman), director(Visions of Light, Todd McCarthy), director(Visions of Light, Stuart Samuels)\n",
      "genre(Visions of Light, documentary)\n",
      "cast member(Visions of Light, Arnold Glassman), cast member(Visions of Light, Todd McCarthy), cast member(Visions of Light, Stuart Samuels)\n"
     ]
    }
   ],
   "source": [
    "print(response)"
   ]
  },
  {
   "cell_type": "code",
   "execution_count": 48,
   "id": "3e5da37f-49b6-4c57-8afe-6cbdc823ee66",
   "metadata": {
    "tags": []
   },
   "outputs": [],
   "source": [
    "# saving all the responses "
   ]
  },
  {
   "cell_type": "markdown",
   "id": "8d1cbe6d-f58d-430a-af2f-34aa76797862",
   "metadata": {},
   "source": [
    "# Parsing responses"
   ]
  },
  {
   "cell_type": "code",
   "execution_count": null,
   "id": "f8bcfc0d-3556-443c-89ba-77323435e263",
   "metadata": {},
   "outputs": [],
   "source": [
    "# go through responses of LLM responses\n",
    "# parse_llm_response(response)\n",
    "# "
   ]
  },
  {
   "cell_type": "code",
   "execution_count": null,
   "id": "b7f256a5-edf7-4d4f-94fa-63e84ebb9fdf",
   "metadata": {},
   "outputs": [],
   "source": []
  },
  {
   "cell_type": "markdown",
   "id": "364acb87-7949-4770-9a78-656086c3a567",
   "metadata": {},
   "source": [
    "# Evaluating the triples with the ground truth"
   ]
  },
  {
   "cell_type": "code",
   "execution_count": 49,
   "id": "fd3a6e8b-0a66-45fc-92fd-ec885f4908ca",
   "metadata": {
    "tags": []
   },
   "outputs": [],
   "source": [
    "ground_truth_files = {\n",
    "    \"onto_1_movie\": \"data/ground_truth/ont_1_movie_ground_truth.jsonl\",\n",
    "    \"onto_2_music\": \"data/ground_truth/ont_1_music_ground_truth.jsonl\"  \n",
    "}"
   ]
  },
  {
   "cell_type": "code",
   "execution_count": null,
   "id": "90183521-f98c-41f5-be51-e9fa8eb1d2ef",
   "metadata": {},
   "outputs": [],
   "source": []
  }
 ],
 "metadata": {
  "kernelspec": {
   "display_name": "Python 3 (ipykernel)",
   "language": "python",
   "name": "python3"
  },
  "language_info": {
   "codemirror_mode": {
    "name": "ipython",
    "version": 3
   },
   "file_extension": ".py",
   "mimetype": "text/x-python",
   "name": "python",
   "nbconvert_exporter": "python",
   "pygments_lexer": "ipython3",
   "version": "3.10.9"
  }
 },
 "nbformat": 4,
 "nbformat_minor": 5
}
