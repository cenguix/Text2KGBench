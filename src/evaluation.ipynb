{
 "cells": [
  {
   "cell_type": "code",
   "execution_count": 24,
   "id": "46cf8664-e788-443d-8a7a-dbe5f5810814",
   "metadata": {
    "tags": []
   },
   "outputs": [],
   "source": [
    "import json\n",
    "import re"
   ]
  },
  {
   "cell_type": "markdown",
   "id": "51327ba0-d736-4e12-a294-3d6c8b31c55b",
   "metadata": {},
   "source": [
    "# Loading gold standard"
   ]
  },
  {
   "cell_type": "code",
   "execution_count": 5,
   "id": "6cfb98b3-c4ce-484c-bedc-8a10d2206d53",
   "metadata": {
    "tags": []
   },
   "outputs": [],
   "source": [
    "ont_name = \"ont_4_book\""
   ]
  },
  {
   "cell_type": "code",
   "execution_count": 13,
   "id": "22a0acd5-f346-474f-a665-2f3ec12ddecd",
   "metadata": {
    "tags": []
   },
   "outputs": [],
   "source": [
    "id_to_gt = dict()\n",
    "with open(f\"data/ground_truth/{ont_name}_ground_truth_v1.jsonl\") as in_file:\n",
    "    for line in in_file:\n",
    "        data = json.loads(line)\n",
    "        id_to_gt[data['id']] = data"
   ]
  },
  {
   "cell_type": "code",
   "execution_count": 14,
   "id": "18e28a5d-81ba-4780-9ca2-f53fbe95bb50",
   "metadata": {
    "tags": []
   },
   "outputs": [
    {
     "data": {
      "text/plain": [
       "{'id': 'ont_4_book_test_550',\n",
       " 'sent': \"Billiards at Half-Past Nine focuses on the Faehmel family's history, from the end of the 19th century, until that day; it largely reflects the opposition of the author (who won the Nobel Prize for Literature in 1972) had to the period of Nazism, as well as his aversion to war in general.\",\n",
       " 'triples': [{'sub': 'Billiards at Half-Past Nine',\n",
       "   'rel': 'depicts',\n",
       "   'obj': 'Family'}]}"
      ]
     },
     "execution_count": 14,
     "metadata": {},
     "output_type": "execute_result"
    }
   ],
   "source": [
    "data"
   ]
  },
  {
   "cell_type": "markdown",
   "id": "1dd14ad8-b226-4ccf-ace1-7998f461a848",
   "metadata": {},
   "source": [
    "# Loading system output"
   ]
  },
  {
   "cell_type": "code",
   "execution_count": 10,
   "id": "482b5ea8-f2de-49f7-b9f1-96bd81aba540",
   "metadata": {
    "tags": []
   },
   "outputs": [],
   "source": [
    "id_to_sys = dict()\n",
    "with open(f\"prompts/{ont_name}_llm_responses.jsonl\") as in_file:\n",
    "    for line in in_file:\n",
    "        data = json.loads(line)\n",
    "        id_to_sys[data['id']] = data"
   ]
  },
  {
   "cell_type": "code",
   "execution_count": 11,
   "id": "48cbba54-c3ab-4e70-b193-199a05d41a82",
   "metadata": {
    "tags": []
   },
   "outputs": [
    {
     "data": {
      "text/plain": [
       "{'id': 'ont_4_book_test_550',\n",
       " 'response': 'author(Billiards at Half-Past Nine,Kundera)\\npublication\\\\_date(Billiards at Half-Past Nine,1978)\\nillustrator(Billiards at Half-Past Nine,)\\nnarrative\\\\_location(Billiards at Half-Past Nine,Czechoslovakia)\\ngenre(Billiards at Half-Past Nine,literary genre)\\nlanguage\\\\_of\\\\_work\\\\_or\\\\_name(Billiards at Half-Past Nine,Czech)\\ndepicts(Billiards at Half-Past Nine,Nazism)\\ndepicts(Billiards at Half-Past Nine,war)',\n",
       " 'triples': [['Billiards at Half-Past Nine', 'author', 'Kundera'],\n",
       "  ['Billiards at Half-Past Nine', '_date', '1978'],\n",
       "  ['Billiards at Half-Past Nine', '_location', 'Czechoslovakia'],\n",
       "  ['Billiards at Half-Past Nine', 'genre', 'literary genre'],\n",
       "  ['Billiards at Half-Past Nine', '_name', 'Czech'],\n",
       "  ['Billiards at Half-Past Nine', 'depicts', 'Nazism'],\n",
       "  ['Billiards at Half-Past Nine', 'depicts', 'war']]}"
      ]
     },
     "execution_count": 11,
     "metadata": {},
     "output_type": "execute_result"
    }
   ],
   "source": [
    "data"
   ]
  },
  {
   "cell_type": "markdown",
   "id": "bccacbf6-d937-47a0-9bfa-2084167fde44",
   "metadata": {
    "tags": []
   },
   "source": [
    "# Evaluation"
   ]
  },
  {
   "cell_type": "code",
   "execution_count": 28,
   "id": "498b1be4-0506-491f-a770-feaf6604ed78",
   "metadata": {
    "tags": []
   },
   "outputs": [],
   "source": [
    "def create_key(sub_label, rel_label, obj_label):\n",
    "    # remove spaces and make lower case\n",
    "    sub_label = re.sub(r\"(_|\\s+)\", '', sub_label).lower()\n",
    "    rel_label = re.sub(r\"(_|\\s+)\", '', rel_label).lower()\n",
    "    obj_label = re.sub(r\"(_|\\s+)\", '', obj_label).lower()\n",
    "    # concatanate them \n",
    "    tr_key = f\"{sub_label}{rel_label}{obj_label}\"\n",
    "    return tr_key\n",
    "\n",
    "\n",
    "def calculate_precision_recall_f1(gold, pred):\n",
    "    if len(pred) == 0:\n",
    "        return 0, 0, 0\n",
    "    gold = set(gold)\n",
    "    pred = set(pred)\n",
    "    p = len(gold.intersection(pred)) / len(pred)\n",
    "    r = len(gold.intersection(pred)) / len(gold)\n",
    "    if p + r > 0:\n",
    "        f1 = 2 * ((p * r) / (p + r))\n",
    "    else:\n",
    "        f1 = 0\n",
    "    return p, r, f1"
   ]
  },
  {
   "cell_type": "code",
   "execution_count": 33,
   "id": "5759acc1-0efd-4db0-9f69-165b84612564",
   "metadata": {
    "tags": []
   },
   "outputs": [
    {
     "name": "stdout",
     "output_type": "stream",
     "text": [
      "Processing: ont_4_book_test_1\n",
      "  groud truth: [{'sub': 'Peter and the Piskies', 'rel': 'illustrator', 'obj': 'Raymond Briggs'}, {'sub': 'Peter and the Piskies', 'rel': 'publication date', 'obj': '00  1958'}, {'sub': 'Peter and the Piskies', 'rel': 'author', 'obj': 'Ruth Manning-Sanders'}]\n",
      "  system output: [['Peter and the Piskies: Cornish Folk and Fairy Tales', 'illustrator', 'Raymond Briggs']]\n",
      "  gt relations: ['illustrator', 'publication_date', 'author']\n",
      "  filtered system output: [['Peter and the Piskies: Cornish Folk and Fairy Tales', 'illustrator', 'Raymond Briggs']]\n",
      "precision: 0.0000, recall: 0.0000, f1: 0.0000\n",
      "\n",
      "\n",
      "Processing: ont_4_book_test_2\n",
      "  groud truth: [{'sub': 'Queen Zixi of Ix', 'rel': 'illustrator', 'obj': 'Frederick Richardson'}, {'sub': 'Queen Zixi of Ix', 'rel': 'author', 'obj': 'L. Frank Baum'}]\n",
      "  system output: [['Queen Zixi of Ix', 'illustrator', 'Frederick Richardson']]\n",
      "  gt relations: ['illustrator', 'author']\n",
      "  filtered system output: [['Queen Zixi of Ix', 'illustrator', 'Frederick Richardson']]\n",
      "precision: 1.0000, recall: 0.5000, f1: 0.6667\n",
      "\n",
      "\n",
      "Processing: ont_4_book_test_3\n",
      "  groud truth: [{'sub': 'Peter and the Secret of Rundoon', 'rel': 'illustrator', 'obj': 'Greg Call'}]\n",
      "  system output: []\n",
      "  gt relations: ['illustrator']\n",
      "  filtered system output: []\n",
      "precision: 0.0000, recall: 0.0000, f1: 0.0000\n",
      "\n",
      "\n",
      "Processing: ont_4_book_test_4\n",
      "  groud truth: [{'sub': 'The Number Devil', 'rel': 'illustrator', 'obj': 'Rotraut Susanne Berner'}, {'sub': 'The Number Devil', 'rel': 'publication date', 'obj': '00  1997'}, {'sub': 'The Number Devil', 'rel': 'author', 'obj': 'Hans Magnus Enzensberger'}]\n",
      "  system output: [['The Number Devil', 'illustrator', ' Hans Magnus Enzensberger,Rotraut Susanne Berner']]\n",
      "  gt relations: ['illustrator', 'publication_date', 'author']\n",
      "  filtered system output: [['The Number Devil', 'illustrator', ' Hans Magnus Enzensberger,Rotraut Susanne Berner']]\n",
      "precision: 0.0000, recall: 0.0000, f1: 0.0000\n",
      "\n",
      "\n",
      "Processing: ont_4_book_test_5\n",
      "  groud truth: [{'sub': 'Platinum Grit', 'rel': 'illustrator', 'obj': 'Trudy Cooper'}, {'sub': 'Platinum Grit', 'rel': 'author', 'obj': 'Danny Murphy'}]\n",
      "  system output: []\n",
      "  gt relations: ['illustrator', 'author']\n",
      "  filtered system output: []\n",
      "precision: 0.0000, recall: 0.0000, f1: 0.0000\n",
      "\n",
      "\n",
      "Processing: ont_4_book_test_6\n",
      "  groud truth: [{'sub': 'Always Room for One More', 'rel': 'genre', 'obj': 'Picture book'}, {'sub': 'Always Room for One More', 'rel': 'illustrator', 'obj': 'Nonny Hogrogian'}, {'sub': 'Always Room for One More', 'rel': 'author', 'obj': 'Sorche Nic Leodhas'}]\n",
      "  system output: [['Always Room for One More', 'illustrator', 'Nonny Hogrogian'], ['The Very Hungry Caterpillar', 'author', 'Eric Carle'], ['The Very Hungry Caterpillar', 'publisher', 'Penguin'], ['The Very Hungry Caterpillar', '_date', '1963'], ['The Great Gatsby', 'author', 'F. Scott Fitzgerald'], ['The Great Gatsby', 'publisher', \"Charles Scribner's Sons\"], ['The Great Gatsby', '_date', '1925'], ['The Taming of the Shrew', 'author', 'William Shakespeare'], ['The Taming of the Shrew', '_date', '1594'], ['\"The Tell-Tale Heart\"', 'author', 'Edgar Allan Poe'], ['\"The Tell-Tale Heart\"', '_date', '1843'], ['\"The Raven\"', 'author', 'Edgar Allan Poe'], ['\"The Raven\"', '_date', '1845'], ['\"The Yellow Wallpaper\"', 'author', 'Charlotte Perkins Gilman'], ['\"The Yellow Wallpaper\"', '_date', '1892'], ['\"The Necktie\"', 'author', 'Nadine Gordimer'], ['\"The Necktie\"', '_date', '1978']]\n",
      "  gt relations: ['genre', 'illustrator', 'author']\n",
      "  filtered system output: [['Always Room for One More', 'illustrator', 'Nonny Hogrogian'], ['The Very Hungry Caterpillar', 'author', 'Eric Carle'], ['The Great Gatsby', 'author', 'F. Scott Fitzgerald'], ['The Taming of the Shrew', 'author', 'William Shakespeare'], ['\"The Tell-Tale Heart\"', 'author', 'Edgar Allan Poe'], ['\"The Raven\"', 'author', 'Edgar Allan Poe'], ['\"The Yellow Wallpaper\"', 'author', 'Charlotte Perkins Gilman'], ['\"The Necktie\"', 'author', 'Nadine Gordimer']]\n",
      "precision: 0.1250, recall: 0.3333, f1: 0.1818\n",
      "\n",
      "\n",
      "Processing: ont_4_book_test_7\n",
      "  groud truth: [{'sub': 'Domnei : A Comedy of Woman-Worship', 'rel': 'illustrator', 'obj': 'Howard Pyle'}]\n",
      "  system output: [['The Narrative Corpse', '_date', '01 January 1995'], ['Howard Pyle', 'illustrator', 'human'], ['The Narrative Corpse', '_name', 'English'], ['The Narrative Corpse', 'depicts', 'fantasy'], ['The Narrative Corpse', 'genre', 'fantasy'], ['The Narrative Corpse', 'characters', 'fictional character'], ['The Narrative Corpse', '_location', 'fantasy'], ['The Narrative Corpse', 'author', 'writer'], ['The Narrative Corpse', 'publisher', 'publisher']]\n",
      "  gt relations: ['illustrator']\n",
      "  filtered system output: [['Howard Pyle', 'illustrator', 'human']]\n",
      "precision: 0.0000, recall: 0.0000, f1: 0.0000\n",
      "\n",
      "\n",
      "Processing: ont_4_book_test_8\n",
      "  groud truth: [{'sub': 'Nine Days to Christmas', 'rel': 'illustrator', 'obj': 'Marie Hall Ets'}, {'sub': 'Nine Days to Christmas', 'rel': 'author', 'obj': 'Marie Hall Ets'}]\n",
      "  system output: [['Nine Days to Christmas', 'author', 'Marie Hall Ets'], ['Nine Days to Christmas', 'author', 'Aurora Labastida'], ['Nine Days to Christmas', '_date', '1960']]\n",
      "  gt relations: ['illustrator', 'author']\n",
      "  filtered system output: [['Nine Days to Christmas', 'author', 'Marie Hall Ets'], ['Nine Days to Christmas', 'author', 'Aurora Labastida']]\n",
      "precision: 0.5000, recall: 0.5000, f1: 0.5000\n",
      "\n",
      "\n",
      "Processing: ont_4_book_test_9\n",
      "  groud truth: [{'sub': 'Brown Bear , Brown Bear , What Do You See ?', 'rel': 'illustrator', 'obj': 'Eric Carle'}]\n",
      "  system output: [['Bill Martin', 'illustrator', ' Jr., Panda Bear, Panda Bear, What Do You See?, Eric Carle'], ['Bill Martin', 'illustrator', ' Jr., Panda Bear, Panda Bear, What Do You See?, Eric Carle'], ['Panda Bear', 'illustration', ' Panda Bear, What Do You See?, Eric Carle'], ['Panda Bear', 'character', ' Bill Martin, Jr.'], ['Bill Martin', 'author', ' Jr., Bill Martin, Jr.'], ['Panda Bear', '_date', ' Panda Bear, What Do You See?'], ['Panda Bear', 'book', ' Panda Bear, What Do You See?'], ['Panda Bear', 'publisher', ' What Do You See?'], ['Panda Bear', 'publisher', ' What Do You See?'], ['Panda Bear', 'location', ' Bill Martin, Jr.'], ['Panda Bear', '_location', ' Bill Martin, Jr.'], ['Panda Bear', 'genre', ' What Do You See?, literary genre'], ['Panda Bear', '_name', ' What Do You See?, language'], ['Panda Bear', 'depicts', ' Bill Martin, Jr.']]\n",
      "  gt relations: ['illustrator']\n",
      "  filtered system output: [['Bill Martin', 'illustrator', ' Jr., Panda Bear, Panda Bear, What Do You See?, Eric Carle'], ['Bill Martin', 'illustrator', ' Jr., Panda Bear, Panda Bear, What Do You See?, Eric Carle']]\n",
      "precision: 0.0000, recall: 0.0000, f1: 0.0000\n",
      "\n",
      "\n",
      "Processing: ont_4_book_test_10\n",
      "  groud truth: [{'sub': \"Doctor Dolittle 's Post Office\", 'rel': 'illustrator', 'obj': 'Hugh Lofting'}, {'sub': \"Doctor Dolittle 's Post Office\", 'rel': 'author', 'obj': 'Hugh Lofting'}]\n",
      "  system output: [[\"Doctor Dolittle's Post Office\", 'illustrator', 'Hugh Lofting']]\n",
      "  gt relations: ['illustrator', 'author']\n",
      "  filtered system output: [[\"Doctor Dolittle's Post Office\", 'illustrator', 'Hugh Lofting']]\n",
      "precision: 1.0000, recall: 0.5000, f1: 0.6667\n",
      "\n",
      "\n",
      "Processing: ont_4_book_test_11\n",
      "  groud truth: [{'sub': 'Busybody Nora', 'rel': 'illustrator', 'obj': 'Johanna Hurwitz'}, {'sub': 'Busybody Nora', 'rel': 'author', 'obj': 'Johanna Hurwitz'}]\n",
      "  system output: [['Busybody Nora', 'illustrator', 'Susan Jeschke']]\n",
      "  gt relations: ['illustrator', 'author']\n",
      "  filtered system output: [['Busybody Nora', 'illustrator', 'Susan Jeschke']]\n",
      "precision: 0.0000, recall: 0.0000, f1: 0.0000\n",
      "\n",
      "\n",
      "Processing: ont_4_book_test_12\n",
      "  groud truth: [{'sub': 'The Giving Tree', 'rel': 'characters', 'obj': 'the Giving Tree'}, {'sub': 'The Giving Tree', 'rel': 'illustrator', 'obj': 'Shel Silverstein'}, {'sub': 'The Giving Tree', 'rel': 'author', 'obj': 'Shel Silverstein'}]\n",
      "  system output: [['The Giving Tree', 'illustrator', 'Shel Silverstein']]\n",
      "  gt relations: ['characters', 'illustrator', 'author']\n",
      "  filtered system output: [['The Giving Tree', 'illustrator', 'Shel Silverstein']]\n",
      "precision: 1.0000, recall: 0.3333, f1: 0.5000\n",
      "\n",
      "\n",
      "Processing: ont_4_book_test_13\n",
      "  groud truth: [{'sub': 'The Bad Beginning', 'rel': 'illustrator', 'obj': 'Brett Helquist'}, {'sub': 'The Bad Beginning', 'rel': 'publication date', 'obj': '30 September 1999'}]\n",
      "  system output: [['The book', 'illustrator', 'Brett Helquist']]\n",
      "  gt relations: ['illustrator', 'publication_date']\n",
      "  filtered system output: [['The book', 'illustrator', 'Brett Helquist']]\n",
      "precision: 0.0000, recall: 0.0000, f1: 0.0000\n",
      "\n",
      "\n",
      "Processing: ont_4_book_test_14\n",
      "  groud truth: [{'sub': 'Duffy and the Devil', 'rel': 'illustrator', 'obj': 'Margot Zemach'}, {'sub': 'Duffy and the Devil', 'rel': 'publication date', 'obj': '00  1973'}, {'sub': 'Duffy and the Devil', 'rel': 'author', 'obj': 'Margot Zemach'}]\n",
      "  system output: [['Duffy and the Devil', 'author', 'Margot Zemach'], ['Duffy and the Devil', 'publisher', 'publisher'], ['Duffy and the Devil', '_date', '1973']]\n",
      "  gt relations: ['illustrator', 'publication_date', 'author']\n",
      "  filtered system output: [['Duffy and the Devil', 'author', 'Margot Zemach']]\n",
      "precision: 1.0000, recall: 0.3333, f1: 0.5000\n",
      "\n",
      "\n",
      "Processing: ont_4_book_test_15\n",
      "  groud truth: [{'sub': 'Little Fur Family', 'rel': 'illustrator', 'obj': 'Garth Williams'}, {'sub': 'Little Fur Family', 'rel': 'publication date', 'obj': '00  1946'}, {'sub': 'Little Fur Family', 'rel': 'author', 'obj': 'Margaret Wise Brown'}]\n",
      "  system output: [['Little Fur Family', 'illustrator', 'Garth Williams']]\n",
      "  gt relations: ['illustrator', 'publication_date', 'author']\n",
      "  filtered system output: [['Little Fur Family', 'illustrator', 'Garth Williams']]\n",
      "precision: 1.0000, recall: 0.3333, f1: 0.5000\n",
      "\n",
      "\n",
      "Processing: ont_4_book_test_16\n",
      "  groud truth: [{'sub': 'All You Need Is Kill', 'rel': 'illustrator', 'obj': 'Yoshitoshi ABe'}, {'sub': 'All You Need Is Kill', 'rel': 'author', 'obj': 'Hiroshi Sakurazaka'}]\n",
      "  system output: [['All You Need Is Kill', 'illustrator', 'Yoshitoshi ABe'], ['Sagrada Reset', 'illustrator', 'You Shiina']]\n",
      "  gt relations: ['illustrator', 'author']\n",
      "  filtered system output: [['All You Need Is Kill', 'illustrator', 'Yoshitoshi ABe'], ['Sagrada Reset', 'illustrator', 'You Shiina']]\n",
      "precision: 0.5000, recall: 0.5000, f1: 0.5000\n",
      "\n",
      "\n",
      "Processing: ont_4_book_test_17\n",
      "  groud truth: [{'sub': 'My Friend Rabbit', 'rel': 'genre', 'obj': 'Picture book'}, {'sub': 'My Friend Rabbit', 'rel': 'illustrator', 'obj': 'Eric Rohmann'}, {'sub': 'My Friend Rabbit', 'rel': 'author', 'obj': 'Eric Rohmann'}]\n",
      "  system output: [['Eric Rohmann', 'illustrator', ' My Friend Rabbit, Eric Rohmann']]\n",
      "  gt relations: ['genre', 'illustrator', 'author']\n",
      "  filtered system output: [['Eric Rohmann', 'illustrator', ' My Friend Rabbit, Eric Rohmann']]\n",
      "precision: 0.0000, recall: 0.0000, f1: 0.0000\n",
      "\n",
      "\n",
      "Processing: ont_4_book_test_18\n",
      "  groud truth: [{'sub': 'Inkdeath', 'rel': 'genre', 'obj': 'fantasy novel'}, {'sub': 'Inkdeath', 'rel': 'illustrator', 'obj': 'Cornelia Funke'}, {'sub': 'Inkdeath', 'rel': 'publication date', 'obj': '28 September 2007'}, {'sub': 'Inkdeath', 'rel': 'author', 'obj': 'Cornelia Funke'}]\n",
      "  system output: [['Inkdeath', 'illustrator', 'Cornelia Funke']]\n",
      "  gt relations: ['genre', 'illustrator', 'publication_date', 'author']\n",
      "  filtered system output: [['Inkdeath', 'illustrator', 'Cornelia Funke']]\n",
      "precision: 1.0000, recall: 0.2500, f1: 0.4000\n",
      "\n",
      "\n",
      "Processing: ont_4_book_test_19\n",
      "  groud truth: [{'sub': 'Diary of a Spider', 'rel': 'illustrator', 'obj': 'Harry Bliss'}, {'sub': 'Diary of a Spider', 'rel': 'author', 'obj': 'Doreen Cronin'}]\n",
      "  system output: [['Diary of a Spider', 'illustrator', ' Harry Bliss']]\n",
      "  gt relations: ['illustrator', 'author']\n",
      "  filtered system output: [['Diary of a Spider', 'illustrator', ' Harry Bliss']]\n",
      "precision: 1.0000, recall: 0.5000, f1: 0.6667\n",
      "\n",
      "\n",
      "Processing: ont_4_book_test_20\n",
      "  groud truth: [{'sub': 'Kermit the Hermit', 'rel': 'genre', 'obj': 'Picture book'}, {'sub': 'Kermit the Hermit', 'rel': 'illustrator', 'obj': 'Bill Peet'}, {'sub': 'Kermit the Hermit', 'rel': 'author', 'obj': 'Bill Peet'}]\n",
      "  system output: [['Kermit the Hermit', 'illustrator', 'Bill Peet']]\n",
      "  gt relations: ['genre', 'illustrator', 'author']\n",
      "  filtered system output: [['Kermit the Hermit', 'illustrator', 'Bill Peet']]\n",
      "precision: 1.0000, recall: 0.3333, f1: 0.5000\n",
      "\n",
      "\n"
     ]
    }
   ],
   "source": [
    "for sent_id in list(id_to_gt.keys())[:20]: \n",
    "    print(f\"Processing: {sent_id}\")\n",
    "    gt_triples = id_to_gt[sent_id]['triples']\n",
    "    print(f\"  groud truth: {gt_triples}\")\n",
    "    if sent_id in id_to_sys:\n",
    "        system_triples = id_to_sys[sent_id]['triples']\n",
    "        print(f\"  system output: {system_triples}\")\n",
    "        gt_relations = [tr['rel'].replace(\" \", \"_\") for tr in gt_triples]\n",
    "        print(f\"  gt relations: {gt_relations}\")\n",
    "        filtered_system_triples = [tr for tr in system_triples if tr[1] in gt_relations]\n",
    "        print(f\"  filtered system output: {filtered_system_triples}\")\n",
    "        \n",
    "        encoded_system_triples = [create_key(tr[0], tr[1], tr[2]) for tr in filtered_system_triples]\n",
    "        encoded_gt_triples = [create_key(tr['sub'], tr['rel'], tr['obj']) for tr in gt_triples]\n",
    "        precision, recall, f1 = calculate_precision_recall_f1(encoded_gt_triples, encoded_system_triples)\n",
    "        print(f\"precision: {precision:.4f}, recall: {recall:.4f}, f1: {f1:.4f}\")\n",
    "    print(\"\\n\")"
   ]
  },
  {
   "cell_type": "code",
   "execution_count": null,
   "id": "5a86ba5a-8344-441a-9b88-b4cd31699cba",
   "metadata": {},
   "outputs": [],
   "source": []
  }
 ],
 "metadata": {
  "kernelspec": {
   "display_name": "Python 3 (ipykernel)",
   "language": "python",
   "name": "python3"
  },
  "language_info": {
   "codemirror_mode": {
    "name": "ipython",
    "version": 3
   },
   "file_extension": ".py",
   "mimetype": "text/x-python",
   "name": "python",
   "nbconvert_exporter": "python",
   "pygments_lexer": "ipython3",
   "version": "3.10.9"
  }
 },
 "nbformat": 4,
 "nbformat_minor": 5
}
